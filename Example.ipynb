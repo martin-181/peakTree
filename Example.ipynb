{
 "cells": [
  {
   "cell_type": "code",
   "execution_count": 1,
   "metadata": {
    "collapsed": true
   },
   "outputs": [],
   "source": [
    "%matplotlib inline"
   ]
  },
  {
   "cell_type": "code",
   "execution_count": 17,
   "metadata": {
    "collapsed": false
   },
   "outputs": [],
   "source": [
    "from __future__ import print_function\n",
    "import cPickle\n",
    "import numpy as np\n",
    "import matplotlib\n",
    "import matplotlib.pyplot as plt\n",
    "\n",
    "import peakTree\n",
    "\n",
    "def lin2z(array):\n",
    "    return 10*np.log10(array)\n",
    "\n",
    "def z2lin(array):\n",
    "    return 10**(array/10.)\n",
    "\n",
    "peaks2vel = lambda vel, peaks: [(vel[peak[0]], vel[peak[1]]) for peak in peaks]\n",
    "vel2str = lambda vel : ['({:4.2f} {:4.2f})'.format(*pair) for pair in vel]\n",
    "lst2str = lambda lst : ['{:4.2f}'.format(e) for e in lst]"
   ]
  },
  {
   "cell_type": "code",
   "execution_count": 18,
   "metadata": {
    "collapsed": false
   },
   "outputs": [
    {
     "name": "stdout",
     "output_type": "stream",
     "text": [
      "['nheight', 'est_meanvel', 'instr', 'sel_height', 'delta_v', 'sigma_blure', 'sel_timestamp', 'zcrossspectrum', 'ldr', 'total_z', 'vel_list', 'total_snr', 'blured', 'est_width', 'mean_v', 'ntime', 'zspectrum', 'Zrefmmclx']\n",
      "9.25434645838e-07\n"
     ]
    }
   ],
   "source": [
    "fname = 'example_spectra/mira_1438448249.0_4806.3.pickle'\n",
    "with open(fname, 'rb') as f:\n",
    "    pixel = cPickle.load(f)\n",
    "print(pixel.keys())\n",
    "print(pixel['zspectrum'].min())\n",
    "\n",
    "#pixel['noise_thres'] = pixel['zspectrum'].min()\n",
    "pixel['noise_thres'] = z2lin(-53)"
   ]
  },
  {
   "cell_type": "code",
   "execution_count": 13,
   "metadata": {
    "collapsed": false,
    "scrolled": true
   },
   "outputs": [],
   "source": [
    "def plot(pixel, peaks, thresholds):\n",
    "    fig, ax = plt.subplots(1, figsize=(8.0, 4.5))\n",
    "    \n",
    "    ax.axhline(lin2z(pixel['noise_thres']), color='gray', lw=1)\n",
    "    for thres in thresholds:\n",
    "        ax.axhline(thres, color='gray', lw=1)\n",
    "\n",
    "    ax.step(pixel['vel_list'], lin2z(pixel['zspectrum']),\n",
    "            ':', color='red', label='cloud radar', where='mid', linewidth=1.3)\n",
    "    ax.step(pixel['vel_list'], lin2z(pixel['zcrossspectrum']),\n",
    "            ':', color='firebrick', where='mid', linewidth=1.3)\n",
    "\n",
    "    ax.axvline(pixel['est_meanvel'], ls='dashed',\n",
    "               color='red', linewidth=1.1, label='original peak finder')\n",
    "\n",
    "    for peak in peaks:\n",
    "        # print('plotting peak ', peak)\n",
    "        ax.axvline(pixel['vel_list'][peak[0]], color='slategrey')\n",
    "        ax.axvline(pixel['vel_list'][peak[1]], color='slategrey')\n",
    "\n",
    "\n",
    "    ax.set_ylabel(\"Spectral Reflectivity [dBZ]\", fontweight='semibold')\n",
    "    ax.set_xlabel(\"Velocity [m s$\\\\mathregular{^{-1}}$]\", fontweight='semibold')\n",
    "    #ax.set_xlim([-7.5, 7.5])\n",
    "    ax.set_xlim([-6, 2])\n",
    "    #ax.set_ylim(bottom=-50)\n",
    "    ax.set_ylim(bottom=-70, top=0)\n",
    "\n",
    "    ax.tick_params(axis='both', which='major', labelsize=14,\n",
    "                   width=2, length=4)\n",
    "    ax.tick_params(axis='both', which='minor', width=1.4, length=3)\n",
    "\n",
    "    ax.xaxis.set_major_locator(matplotlib.ticker.MultipleLocator(1))\n",
    "    ax.xaxis.set_minor_locator(matplotlib.ticker.MultipleLocator(0.5))\n",
    "    ax.legend(fontsize=11, numpoints=1, ncol=1)\n",
    "    ax.set_title(\"Spectrum at \" + str(pixel['sel_timestamp']) +\n",
    "                 \" \" + '{0:4d}m'.format(int(pixel['sel_height'])), fontweight='semibold', fontsize=13)\n",
    "    plt.tight_layout()\n",
    "    savename = str(pixel['sel_timestamp']) + \"_\" \\\n",
    "               + '{0:04d}'.format(int(pixel['sel_height'])) + \"m_combined_spectra.png\"\n",
    "    fig.savefig('example_spectra/' + savename, dpi=250)"
   ]
  },
  {
   "cell_type": "code",
   "execution_count": 20,
   "metadata": {
    "collapsed": false
   },
   "outputs": [
    {
     "name": "stdout",
     "output_type": "stream",
     "text": [
      "(0, 256)   [5.012e-06]\n",
      "  (86, 86)   [5.012e-06]\n",
      "    (86, 86)   [7.518e-06]\n",
      "      (86, 86)   [1.128e-05]\n",
      "  (88, 119)   [5.012e-06]\n",
      "    (88, 119)   [7.518e-06]\n",
      "      (88, 119)   [1.128e-05]\n",
      "        (88, 119)   [1.692e-05]\n",
      "          (88, 119)   [2.537e-05]\n",
      "            (88, 119)   [3.806e-05]\n",
      "              (88, 119)   [5.709e-05]\n",
      "                (88, 119)   [8.563e-05]\n",
      "                  (88, 119)   [1.284e-04]\n",
      "                    (89, 119)   [1.927e-04]\n",
      "                      (89, 119)   [2.890e-04]\n",
      "                        (89, 119)   [4.335e-04]\n",
      "                          (89, 118)   [6.503e-04]\n",
      "                            (90, 118)   [9.754e-04]\n",
      "                              (90, 118)   [1.463e-03]\n",
      "                                (91, 118)   [2.195e-03]\n",
      "                                  (91, 117)   [3.292e-03]\n",
      "                                    (92, 106)   [4.938e-03]\n",
      "                                      (92, 100)   [7.407e-03]\n",
      "                                        (92, 100)   [1.111e-02]\n",
      "                                          (93, 99)   [1.667e-02]\n",
      "                                            (94, 98)   [2.500e-02]\n",
      "                                      (102, 104)   [7.407e-03]\n",
      "                                    (108, 117)   [4.938e-03]\n",
      "                                      (109, 116)   [7.407e-03]\n",
      "                                        (110, 114)   [1.111e-02]\n",
      "                                          (111, 112)   [1.667e-02]\n",
      "  (122, 122)   [5.012e-06]\n",
      "\n",
      "(0, 256)   [5.012e-06]\n",
      "  (86, 86)   [5.012e-06]\n",
      "  (88, 119)   [5.012e-06]\n",
      "    (92, 106)   [4.938e-03]\n",
      "      (92, 100)   [7.407e-03]\n",
      "      (102, 104)   [7.407e-03]\n",
      "    (108, 117)   [4.938e-03]\n",
      "  (122, 122)   [5.012e-06]\n",
      "\n",
      "(0, 256)   [5.012e-06]\n",
      "  (86, 86)   [5.012e-06]\n",
      "  (88, 119)   [5.012e-06]\n",
      "    (88, 107)   [4.938e-03]\n",
      "      (88, 101)   [7.407e-03]\n",
      "      (101, 107)   [7.407e-03]\n",
      "    (107, 119)   [4.938e-03]\n",
      "  (122, 122)   [5.012e-06]\n",
      "\n",
      "threshold list  -53.00, -51.24, -49.48, -47.72, -45.96, -44.20, -42.43, -40.67, -38.91, -37.15, -35.39, -33.63, -31.87, -30.11, -28.35, -26.59, -24.83, -23.06, -21.30, -19.54, -17.78, -16.02, -14.26\n"
     ]
    },
    {
     "name": "stderr",
     "output_type": "stream",
     "text": [
      "/usr/local/lib/python2.7/dist-packages/ipykernel/__main__.py:10: RuntimeWarning: divide by zero encountered in log10\n"
     ]
    },
    {
     "name": "stdout",
     "output_type": "stream",
     "text": [
      "boundaries of the peaks [m/s] (-3.50 -3.50), (-3.34 -2.26), (-2.26 -1.77), (-1.77 -0.78), (-0.53 -0.53)\n"
     ]
    },
    {
     "data": {
      "image/png": "[encoded data removed]",
      "text/plain": [
       "<matplotlib.figure.Figure at 0x7fe3a805a9d0>"
      ]
     },
     "metadata": {},
     "output_type": "display_data"
    }
   ],
   "source": [
    "peaks, ptpeak, threslist = peakTree.detect_peak_recursive(pixel['zspectrum'], pixel['noise_thres'], lambda thres: thres*1.5)\n",
    "\n",
    "thres_list = [lin2z(thres) for thres in threslist]\n",
    "print('threshold list ', \", \".join(lst2str(thres_list)))\n",
    "\n",
    "plot(pixel, peaks, thres_list)\n",
    "\n",
    "print('boundaries of the peaks [m/s]', \", \".join(vel2str(peaks2vel(pixel['vel_list'], peaks))))"
   ]
  },
  {
   "cell_type": "code",
   "execution_count": null,
   "metadata": {
    "collapsed": true
   },
   "outputs": [],
   "source": []
  }
 ],
 "metadata": {
  "kernelspec": {
   "display_name": "Python 2",
   "language": "python",
   "name": "python2"
  },
  "language_info": {
   "codemirror_mode": {
    "name": "ipython",
    "version": 2
   },
   "file_extension": ".py",
   "mimetype": "text/x-python",
   "name": "python",
   "nbconvert_exporter": "python",
   "pygments_lexer": "ipython2",
   "version": "2.7.12"
  }
 },
 "nbformat": 4,
 "nbformat_minor": 0
}
